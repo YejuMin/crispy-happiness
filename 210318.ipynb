{
 "cells": [
  {
   "cell_type": "code",
   "execution_count": 1,
   "metadata": {},
   "outputs": [
    {
     "name": "stdout",
     "output_type": "stream",
     "text": [
      "[1. 2. 3.]\n",
      "(3,)\n",
      "float64\n"
     ]
    }
   ],
   "source": [
    "#create array\n",
    "from numpy import array\n",
    "\n",
    "#create array\n",
    "L = [1.0, 2.0, 3.0]\n",
    "a = array(L)\n",
    "\n",
    "#display array\n",
    "print(a)\n",
    "\n",
    "#display array shape\n",
    "print(a.shape)\n",
    "\n",
    "#display array data type\n",
    "print(a.dtype)"
   ]
  },
  {
   "cell_type": "code",
   "execution_count": 3,
   "metadata": {},
   "outputs": [
    {
     "name": "stdout",
     "output_type": "stream",
     "text": [
      "[[ 6.17779239e-31 -1.23555848e-30  3.08889620e-31]\n",
      " [-1.23555848e-30  2.68733969e-30 -8.34001973e-31]\n",
      " [ 3.08889620e-31 -8.34001973e-31  4.78778910e-31]]\n"
     ]
    }
   ],
   "source": [
    "#create empty array\n",
    "\n",
    "from numpy import empty\n",
    "a = empty([3,3])\n",
    "print(a)"
   ]
  },
  {
   "cell_type": "code",
   "execution_count": 4,
   "metadata": {},
   "outputs": [
    {
     "name": "stdout",
     "output_type": "stream",
     "text": [
      "[[0. 0. 0. 0. 0.]\n",
      " [0. 0. 0. 0. 0.]\n",
      " [0. 0. 0. 0. 0.]]\n"
     ]
    }
   ],
   "source": [
    "#create zero array\n",
    "\n",
    "from numpy import zeros\n",
    "a = zeros([3,5])\n",
    "print(a)"
   ]
  },
  {
   "cell_type": "code",
   "execution_count": 5,
   "metadata": {},
   "outputs": [
    {
     "name": "stdout",
     "output_type": "stream",
     "text": [
      "[1. 1. 1. 1. 1.]\n"
     ]
    }
   ],
   "source": [
    "#create one array\n",
    "\n",
    "from numpy import ones\n",
    "a = ones([5])\n",
    "print(a)"
   ]
  },
  {
   "cell_type": "code",
   "execution_count": 10,
   "metadata": {},
   "outputs": [
    {
     "name": "stdout",
     "output_type": "stream",
     "text": [
      "a1 =  [1 2 3]\n",
      "a2 =  [4 5 6]\n",
      "a3 =  [[1 2 3]\n",
      " [4 5 6]]\n",
      "shape =  (2, 3)\n"
     ]
    }
   ],
   "source": [
    "#create array with vstack\n",
    "from numpy import array\n",
    "from numpy import vstack\n",
    "\n",
    "#create first array\n",
    "a1 = array([1,2,3])\n",
    "print(\"a1 = \",a1)\n",
    "\n",
    "#create second array\n",
    "a2 = array([4,5,6])\n",
    "print(\"a2 = \",a2)\n",
    "\n",
    "#vertical stack\n",
    "a3 = vstack((a1,a2))\n",
    "print(\"a3 = \",a3)\n",
    "print(\"shape = \",a3.shape)"
   ]
  },
  {
   "cell_type": "code",
   "execution_count": 12,
   "metadata": {},
   "outputs": [
    {
     "name": "stdout",
     "output_type": "stream",
     "text": [
      "a1 =  [1 2 3]\n",
      "a2 =  [4 5 6]\n",
      "a3 =  [1 2 3 4 5 6]\n",
      "shape =  (6,)\n"
     ]
    }
   ],
   "source": [
    "#create array with hstack\n",
    "from numpy import array\n",
    "from numpy import hstack\n",
    "\n",
    "#create first array\n",
    "a1 = array([1,2,3])\n",
    "print(\"a1 = \",a1)\n",
    "\n",
    "#create second array\n",
    "a2 = array([4,5,6])\n",
    "print(\"a2 = \",a2)\n",
    "\n",
    "#create horizontal stack\n",
    "a3 = hstack((a1,a2))\n",
    "print(\"a3 = \",a3)\n",
    "print(\"shape = \", a3.shape)"
   ]
  },
  {
   "cell_type": "code",
   "execution_count": 13,
   "metadata": {},
   "outputs": [
    {
     "name": "stdout",
     "output_type": "stream",
     "text": [
      "data =  [11 22 33 44 55]\n",
      "<class 'numpy.ndarray'>\n"
     ]
    }
   ],
   "source": [
    "#create one-dimensional array\n",
    "from numpy import array\n",
    "\n",
    "#list of data\n",
    "data = [11,22,33,44,55]\n",
    "\n",
    "#arrray of data\n",
    "data = array(data)\n",
    "print(\"data = \", data)\n",
    "print(type(data))"
   ]
  },
  {
   "cell_type": "code",
   "execution_count": 15,
   "metadata": {},
   "outputs": [
    {
     "name": "stdout",
     "output_type": "stream",
     "text": [
      "data =  [[11 22]\n",
      " [33 44]\n",
      " [55 66]]\n",
      "<class 'numpy.ndarray'>\n"
     ]
    }
   ],
   "source": [
    "#create two-dimensional array\n",
    "from numpy import array\n",
    "\n",
    "#list of data\n",
    "data = [[11,22], [33,44], [55,66]]\n",
    "\n",
    "#array of data\n",
    "data = array(data)\n",
    "print(\"data = \", data)\n",
    "print(type(data))"
   ]
  },
  {
   "cell_type": "code",
   "execution_count": 16,
   "metadata": {},
   "outputs": [
    {
     "name": "stdout",
     "output_type": "stream",
     "text": [
      "11\n",
      "55\n"
     ]
    }
   ],
   "source": [
    "#index a one-dimensional array\n",
    "from numpy import array\n",
    "\n",
    "#define array\n",
    "data = array([11,22,33,44,55])\n",
    "\n",
    "#index data\n",
    "print(data[0])\n",
    "print(data[4])"
   ]
  },
  {
   "cell_type": "code",
   "execution_count": 18,
   "metadata": {},
   "outputs": [
    {
     "name": "stdout",
     "output_type": "stream",
     "text": [
      "55\n",
      "11\n"
     ]
    }
   ],
   "source": [
    "#negative array indexing\n",
    "from numpy import array\n",
    "\n",
    "#define array\n",
    "data = array([11,22,33,44,55])\n",
    "\n",
    "#index data\n",
    "print(data[-1])\n",
    "print(data[-5])"
   ]
  },
  {
   "cell_type": "code",
   "execution_count": null,
   "metadata": {},
   "outputs": [],
   "source": []
  }
 ],
 "metadata": {
  "kernelspec": {
   "display_name": "Python 3",
   "language": "python",
   "name": "python3"
  },
  "language_info": {
   "codemirror_mode": {
    "name": "ipython",
    "version": 3
   },
   "file_extension": ".py",
   "mimetype": "text/x-python",
   "name": "python",
   "nbconvert_exporter": "python",
   "pygments_lexer": "ipython3",
   "version": "3.8.5"
  }
 },
 "nbformat": 4,
 "nbformat_minor": 4
}
