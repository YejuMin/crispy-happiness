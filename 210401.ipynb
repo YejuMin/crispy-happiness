{
 "cells": [
  {
   "cell_type": "code",
   "execution_count": 2,
   "metadata": {},
   "outputs": [
    {
     "name": "stdout",
     "output_type": "stream",
     "text": [
      "[1 2 3]\n",
      "6.0\n"
     ]
    }
   ],
   "source": [
    "#지난 수업 복습 \n",
    "#vector L1 Norm\n",
    "from numpy import array\n",
    "from numpy.linalg import norm\n",
    "\n",
    "#define vector\n",
    "a = array([1,2,3])\n",
    "print(a)\n",
    "\n",
    "#calculate norm\n",
    "l1 = norm(a,1)\n",
    "print(l1)"
   ]
  },
  {
   "cell_type": "code",
   "execution_count": 3,
   "metadata": {},
   "outputs": [
    {
     "name": "stdout",
     "output_type": "stream",
     "text": [
      "[[1 2 3]\n",
      " [4 5 6]]\n"
     ]
    }
   ],
   "source": [
    "#CHAPTER 9\n",
    "#create matrix\n",
    "from numpy import array\n",
    "A = array([[1,2,3],[4,5,6]])\n",
    "print(A)\n"
   ]
  },
  {
   "cell_type": "code",
   "execution_count": 7,
   "metadata": {},
   "outputs": [
    {
     "name": "stdout",
     "output_type": "stream",
     "text": [
      "[[1 2 3]\n",
      " [4 5 6]]\n",
      "[[1 2 3]\n",
      " [4 5 6]]\n",
      "A+B= [[ 2  4  6]\n",
      " [ 8 10 12]]\n"
     ]
    }
   ],
   "source": [
    "#matrix addition\n",
    "from numpy import array\n",
    "\n",
    "#define first matrix\n",
    "A = array([[1,2,3],[4,5,6]])\n",
    "print(A)\n",
    "\n",
    "#define second matrix\n",
    "B = array([[1,2,3],[4,5,6]])\n",
    "print(B)\n",
    "\n",
    "#add matrices\n",
    "C = A + B\n",
    "print(\"A+B=\",C)"
   ]
  },
  {
   "cell_type": "code",
   "execution_count": 6,
   "metadata": {},
   "outputs": [
    {
     "name": "stdout",
     "output_type": "stream",
     "text": [
      "[[1 2 3]\n",
      " [4 5 6]]\n",
      "[[0.5 0.5 0.5]\n",
      " [0.5 0.5 0.5]]\n",
      "A-B= [[0.5 1.5 2.5]\n",
      " [3.5 4.5 5.5]]\n"
     ]
    }
   ],
   "source": [
    "#matrix subtraction\n",
    "from numpy import array\n",
    "\n",
    "#define first matrix\n",
    "A = array([[1,2,3],[4,5,6]])\n",
    "print(A)\n",
    "\n",
    "#define second matrix\n",
    "B = array([[0.5,0.5,0.5],[0.5,0.5,0.5]])\n",
    "print(B)\n",
    "\n",
    "#subtract matrices\n",
    "C = A - B\n",
    "print(\"A-B=\",C)"
   ]
  },
  {
   "cell_type": "code",
   "execution_count": 9,
   "metadata": {},
   "outputs": [
    {
     "name": "stdout",
     "output_type": "stream",
     "text": [
      "[[1 2 3]\n",
      " [4 5 6]]\n",
      "[[1 2 3]\n",
      " [4 5 6]]\n",
      "A*B= [[ 1  4  9]\n",
      " [16 25 36]]\n"
     ]
    }
   ],
   "source": [
    "#matrix Hadamard product 성분끼리 곱\n",
    "from numpy import array\n",
    "\n",
    "#define fisrt matrix\n",
    "A = array([[1,2,3],[4,5,6]])\n",
    "print(A)\n",
    "\n",
    "#define second matrix\n",
    "B = array([[1,2,3],[4,5,6]])\n",
    "print(B)\n",
    "\n",
    "#multiply matrices\n",
    "C = A * B\n",
    "print(\"A*B=\", C) #print 대문자로 하면 오류남"
   ]
  },
  {
   "cell_type": "code",
   "execution_count": 10,
   "metadata": {},
   "outputs": [
    {
     "name": "stdout",
     "output_type": "stream",
     "text": [
      "[[1 2 3]\n",
      " [4 5 6]]\n",
      "[[1 2 3]\n",
      " [4 5 6]]\n",
      "A/B= [[1. 1. 1.]\n",
      " [1. 1. 1.]]\n"
     ]
    }
   ],
   "source": [
    "#matrix division\n",
    "from numpy import array\n",
    "\n",
    "#define first matrix\n",
    "A = array([[1,2,3],[4,5,6]])\n",
    "print(A)\n",
    "\n",
    "#define second matrix\n",
    "B = array([[1,2,3],[4,5,6]])\n",
    "print(B)\n",
    "\n",
    "#divide matrices\n",
    "C = A / B\n",
    "print(\"A/B=\", C)\n",
    "# 결과 : 에이랑 비가 같은 컴포넌트이기 떄문에 1"
   ]
  },
  {
   "cell_type": "code",
   "execution_count": 11,
   "metadata": {},
   "outputs": [
    {
     "name": "stdout",
     "output_type": "stream",
     "text": [
      "[[1 2]\n",
      " [3 4]\n",
      " [5 6]]\n",
      "[[1 2]\n",
      " [3 4]]\n",
      "[[ 7 10]\n",
      " [15 22]\n",
      " [23 34]]\n",
      "[[ 7 10]\n",
      " [15 22]\n",
      " [23 34]]\n"
     ]
    }
   ],
   "source": [
    "#matrix dot product\n",
    "from numpy import array\n",
    "\n",
    "#define first matrix\n",
    "A = array([[1,2],[3,4],[5,6]])\n",
    "print(A)\n",
    "\n",
    "#define second matrix\n",
    "B = array([[1,2],[3,4]])\n",
    "print(B)\n",
    "\n",
    "#multiply matrices\n",
    "C = A.dot(B)\n",
    "print(C)\n",
    "\n",
    "#multiply matrices with @ operator\n",
    "D = A @ B\n",
    "print(D)\n"
   ]
  },
  {
   "cell_type": "code",
   "execution_count": 12,
   "metadata": {},
   "outputs": [
    {
     "name": "stdout",
     "output_type": "stream",
     "text": [
      "[[1 2]\n",
      " [3 4]\n",
      " [5 6]]\n",
      "[0.5 0.5]\n",
      "[1.5 3.5 5.5]\n"
     ]
    }
   ],
   "source": [
    "#matrix-vector multiplication\n",
    "from numpy import array\n",
    "\n",
    "#define matrix\n",
    "A = array([[1,2],[3,4],[5,6]])\n",
    "print(A)\n",
    "\n",
    "#define vector\n",
    "B = array([0.5,0.5])\n",
    "print(B)\n",
    "\n",
    "#multiply\n",
    "C = A.dot(B)\n",
    "print(C)"
   ]
  },
  {
   "cell_type": "code",
   "execution_count": 15,
   "metadata": {},
   "outputs": [
    {
     "name": "stdout",
     "output_type": "stream",
     "text": [
      "[[1 2]\n",
      " [3 4]\n",
      " [5 6]]\n",
      "0.5\n",
      "A * b =  [[0.5 1. ]\n",
      " [1.5 2. ]\n",
      " [2.5 3. ]]\n"
     ]
    }
   ],
   "source": [
    "#matrix-scalar multiplication\n",
    "from numpy import array\n",
    "\n",
    "#define matrix\n",
    "A = array([[1,2],[3,4],[5,6]]) #[]사이에 , 잘 찍자 안그러면 오류나\n",
    "print(A)\n",
    "\n",
    "#define scalar\n",
    "b =0.5\n",
    "print(b)\n",
    "\n",
    "\n",
    "#multiply\n",
    "C = A * b\n",
    "print(\"A * b = \", C)\n"
   ]
  },
  {
   "cell_type": "code",
   "execution_count": 16,
   "metadata": {},
   "outputs": [
    {
     "name": "stdout",
     "output_type": "stream",
     "text": [
      "[[1 2 3]\n",
      " [1 2 3]\n",
      " [1 2 3]]\n",
      "[[1 0 0]\n",
      " [1 2 0]\n",
      " [1 2 3]]\n",
      "[[1 2 3]\n",
      " [0 2 3]\n",
      " [0 0 3]]\n"
     ]
    }
   ],
   "source": [
    "#CHAPTER 10\n",
    "#triangular matrices\n",
    "from numpy import array\n",
    "from numpy import tril\n",
    "from numpy import triu\n",
    "\n",
    "#define square matrix\n",
    "M = array([[1,2,3],[1,2,3],[1,2,3]])\n",
    "print(M)\n",
    "\n",
    "#lower triangular matrix\n",
    "lower = tril(M)\n",
    "print(lower)\n",
    "\n",
    "#upper triangular matrix\n",
    "upper = triu(M)\n",
    "print(upper)"
   ]
  },
  {
   "cell_type": "code",
   "execution_count": 17,
   "metadata": {},
   "outputs": [
    {
     "name": "stdout",
     "output_type": "stream",
     "text": [
      "[[1 2 3]\n",
      " [1 2 3]\n",
      " [1 2 3]]\n",
      "[1 2 3]\n",
      "[[1 0 0]\n",
      " [0 2 0]\n",
      " [0 0 3]]\n"
     ]
    }
   ],
   "source": [
    "#diagonal matrix\n",
    "from numpy import array\n",
    "from numpy import diag\n",
    "\n",
    "#define square matrix\n",
    "M = array([[1,2,3],[1,2,3],[1,2,3]])\n",
    "print(M)\n",
    "\n",
    "#extract diagonal vector\n",
    "d = diag(M)\n",
    "print(d)\n",
    "\n",
    "#create diagonal matrix from vector\n",
    "D = diag(d)\n",
    "print(D)"
   ]
  },
  {
   "cell_type": "code",
   "execution_count": 18,
   "metadata": {},
   "outputs": [
    {
     "name": "stdout",
     "output_type": "stream",
     "text": [
      "[[1. 0. 0.]\n",
      " [0. 1. 0.]\n",
      " [0. 0. 1.]]\n"
     ]
    }
   ],
   "source": [
    "#identity matrix 항등행렬 (곱해도 변화시키지 않아)\n",
    "from numpy import identity\n",
    "I = identity(3)\n",
    "print(I)"
   ]
  },
  {
   "cell_type": "code",
   "execution_count": 20,
   "metadata": {},
   "outputs": [
    {
     "name": "stdout",
     "output_type": "stream",
     "text": [
      "[[ 1  0]\n",
      " [ 0 -1]]\n",
      "[[ 1  0]\n",
      " [ 0 -1]]\n",
      "[[ 1.  0.]\n",
      " [-0. -1.]]\n",
      "[[1 0]\n",
      " [0 1]]\n"
     ]
    }
   ],
   "source": [
    "#orthogonal matrix\n",
    "from numpy import array\n",
    "from numpy.linalg import inv #inv 오타 주의\n",
    "\n",
    "#define orthogonal matrix\n",
    "Q = array([[1,0],[0,-1]])\n",
    "print(Q)\n",
    "\n",
    "#inverse equivalence\n",
    "V = inv(Q)\n",
    "print(Q.T)\n",
    "print(V)\n",
    "\n",
    "#identity equivalence\n",
    "I = Q.dot(Q.T)\n",
    "print(I)"
   ]
  },
  {
   "cell_type": "code",
   "execution_count": null,
   "metadata": {},
   "outputs": [],
   "source": []
  }
 ],
 "metadata": {
  "kernelspec": {
   "display_name": "Python 3",
   "language": "python",
   "name": "python3"
  },
  "language_info": {
   "codemirror_mode": {
    "name": "ipython",
    "version": 3
   },
   "file_extension": ".py",
   "mimetype": "text/x-python",
   "name": "python",
   "nbconvert_exporter": "python",
   "pygments_lexer": "ipython3",
   "version": "3.8.5"
  }
 },
 "nbformat": 4,
 "nbformat_minor": 4
}
