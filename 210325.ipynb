{
 "cells": [
  {
   "cell_type": "code",
   "execution_count": 2,
   "metadata": {},
   "outputs": [
    {
     "ename": "IndexError",
     "evalue": "index 5 is out of bounds for axis 0 with size 5",
     "output_type": "error",
     "traceback": [
      "\u001b[0;31m---------------------------------------------------------------------------\u001b[0m",
      "\u001b[0;31mIndexError\u001b[0m                                Traceback (most recent call last)",
      "\u001b[0;32m<ipython-input-2-ccc77a41a14c>\u001b[0m in \u001b[0;36m<module>\u001b[0;34m\u001b[0m\n\u001b[1;32m      6\u001b[0m \u001b[0;34m\u001b[0m\u001b[0m\n\u001b[1;32m      7\u001b[0m \u001b[0;31m# index data\u001b[0m\u001b[0;34m\u001b[0m\u001b[0;34m\u001b[0m\u001b[0;34m\u001b[0m\u001b[0m\n\u001b[0;32m----> 8\u001b[0;31m \u001b[0mprint\u001b[0m\u001b[0;34m(\u001b[0m\u001b[0mdata\u001b[0m\u001b[0;34m[\u001b[0m\u001b[0;36m5\u001b[0m\u001b[0;34m]\u001b[0m\u001b[0;34m)\u001b[0m\u001b[0;34m\u001b[0m\u001b[0;34m\u001b[0m\u001b[0m\n\u001b[0m",
      "\u001b[0;31mIndexError\u001b[0m: index 5 is out of bounds for axis 0 with size 5"
     ]
    }
   ],
   "source": [
    "# index row of two-demensional array\n",
    "from numpy import array\n",
    "\n",
    "#define array\n",
    "data = array([11,22,33,44,55])\n",
    "\n",
    "# index data\n",
    "print(data[5])\n",
    "\n",
    "#0,1,2,3,4 순이니까 5번째는 오류나는게 맞아!"
   ]
  },
  {
   "cell_type": "code",
   "execution_count": 3,
   "metadata": {},
   "outputs": [
    {
     "name": "stdout",
     "output_type": "stream",
     "text": [
      "[11 22 33 44 55]\n"
     ]
    }
   ],
   "source": [
    "#5.4.1\n",
    "# slice one-dimensional array\n",
    "from numpy import array\n",
    "\n",
    "#define array\n",
    "data = array([11,22,33,44,55])\n",
    "\n",
    "#index data\n",
    "print(data[:])"
   ]
  },
  {
   "cell_type": "code",
   "execution_count": 4,
   "metadata": {},
   "outputs": [
    {
     "name": "stdout",
     "output_type": "stream",
     "text": [
      "[11]\n"
     ]
    }
   ],
   "source": [
    "# silce a subset of a one-dimensional array\n",
    "from numpy import array\n",
    "\n",
    "#define array\n",
    "data = array([11,22,33,44,55])\n",
    "\n",
    "#index data\n",
    "print(data[0:1])"
   ]
  },
  {
   "cell_type": "code",
   "execution_count": 5,
   "metadata": {},
   "outputs": [
    {
     "name": "stdout",
     "output_type": "stream",
     "text": [
      "[]\n"
     ]
    }
   ],
   "source": [
    "#negative slicing of a one-dimensional array\n",
    "from numpy import array\n",
    "\n",
    "#define array\n",
    "data = array([11,22,33,44,55])\n",
    "\n",
    "\n",
    "#index data\n",
    "print(data[-2:0])\n",
    "\n",
    "#엥...다시보기"
   ]
  },
  {
   "cell_type": "code",
   "execution_count": 6,
   "metadata": {},
   "outputs": [
    {
     "name": "stdout",
     "output_type": "stream",
     "text": [
      "[[11 22]\n",
      " [44 55]\n",
      " [77 88]]\n",
      "[33 66 99]\n"
     ]
    }
   ],
   "source": [
    "#split input and output data\n",
    "from numpy import array\n",
    "\n",
    "#define array\n",
    "data = array([\n",
    "    [11,22,33],\n",
    "    [44,55,66],\n",
    "    [77,88,99]])\n",
    "\n",
    "#separate data\n",
    "X,y = data[:,:-1], data[:,-1]\n",
    "print(X)\n",
    "print(y)"
   ]
  },
  {
   "cell_type": "code",
   "execution_count": 7,
   "metadata": {},
   "outputs": [
    {
     "name": "stdout",
     "output_type": "stream",
     "text": [
      "[[11 22 33]\n",
      " [44 55 66]]\n",
      "[[77 88 99]]\n"
     ]
    }
   ],
   "source": [
    "# split train and test data\n",
    "from numpy import array\n",
    "\n",
    "#define array\n",
    "data = array([[11,22,33],[44,55,66],[77,88,99]])\n",
    "\n",
    "#separate data\n",
    "split = 2\n",
    "train,test = data[:split,:], data[split:,:]\n",
    "print(train)\n",
    "print(test)\n",
    "\n",
    "\n",
    "#이것도 뭔가 이상해 다시보기\n"
   ]
  },
  {
   "cell_type": "code",
   "execution_count": 9,
   "metadata": {},
   "outputs": [
    {
     "name": "stdout",
     "output_type": "stream",
     "text": [
      "(5,)\n"
     ]
    }
   ],
   "source": [
    "#5.5.1\n",
    "#shape of one-dimensional array\n",
    "from numpy import array\n",
    "\n",
    "#define array\n",
    "data = array([11,22,33,44,55])\n",
    "print(data.shape)\n",
    "\n",
    "#괄호 조심하자 괄호 다르면 오류나\n"
   ]
  },
  {
   "cell_type": "code",
   "execution_count": 10,
   "metadata": {},
   "outputs": [
    {
     "name": "stdout",
     "output_type": "stream",
     "text": [
      "(3, 2)\n"
     ]
    }
   ],
   "source": [
    "#shape of two-dimensional array\n",
    "from numpy import array\n",
    "\n",
    "#list of data\n",
    "data = [[11,22],[33,44],[55,66]]\n",
    "\n",
    "#array of data\n",
    "data = array(data)\n",
    "print(data.shape)"
   ]
  },
  {
   "cell_type": "code",
   "execution_count": 12,
   "metadata": {},
   "outputs": [
    {
     "name": "stdout",
     "output_type": "stream",
     "text": [
      "(5,)\n",
      "(5, 1)\n"
     ]
    }
   ],
   "source": [
    "#5.5.2\n",
    "#reshape 1D array to 2D\n",
    "from numpy import array\n",
    "\n",
    "#define array\n",
    "data = array([11,22,33,44,55])\n",
    "print(data.shape)\n",
    "\n",
    "#reshape\n",
    "data = data.reshape((data.shape[0],1))\n",
    "print(data.shape)\n",
    "\n",
    "#반점, 온점 구분 잘 하자 오류나기 딱임!\n"
   ]
  },
  {
   "cell_type": "code",
   "execution_count": 14,
   "metadata": {},
   "outputs": [
    {
     "name": "stdout",
     "output_type": "stream",
     "text": [
      "(3, 2)\n",
      "(3, 2, 1)\n",
      "[[[11]\n",
      "  [22]]\n",
      "\n",
      " [[33]\n",
      "  [44]]\n",
      "\n",
      " [[55]\n",
      "  [66]]]\n"
     ]
    }
   ],
   "source": [
    "#reshape 2D array to 3D\n",
    "from numpy import array\n",
    "\n",
    "#list of data\n",
    "data = [[11,22],[33,44],[55,66]]\n",
    "\n",
    "#array of data\n",
    "data = array(data)\n",
    "print(data.shape)\n",
    "\n",
    "#reshape\n",
    "data = data.reshape((data.shape[0], data.shape[1],1))\n",
    "print(data.shape)\n",
    "print(data)\n"
   ]
  },
  {
   "cell_type": "code",
   "execution_count": 15,
   "metadata": {},
   "outputs": [
    {
     "name": "stdout",
     "output_type": "stream",
     "text": [
      "[1 2 3]\n",
      "2\n",
      "[3 4 5]\n"
     ]
    }
   ],
   "source": [
    "#chapter 6\n",
    "#6.4.1\n",
    "#broadcast scalar to one-dimensional array\n",
    "from numpy import array\n",
    "\n",
    "#define array\n",
    "a = array([1,2,3])\n",
    "print(a)\n",
    "\n",
    "#define scalar\n",
    "b = 2\n",
    "print(b)\n",
    "\n",
    "#broadcast\n",
    "c = a+b\n",
    "print(c)\n"
   ]
  },
  {
   "cell_type": "code",
   "execution_count": 17,
   "metadata": {},
   "outputs": [
    {
     "name": "stdout",
     "output_type": "stream",
     "text": [
      "[[1 2 3]\n",
      " [1 2 3]]\n",
      "2\n"
     ]
    },
    {
     "ename": "NameError",
     "evalue": "name 'C' is not defined",
     "output_type": "error",
     "traceback": [
      "\u001b[0;31m---------------------------------------------------------------------------\u001b[0m",
      "\u001b[0;31mNameError\u001b[0m                                 Traceback (most recent call last)",
      "\u001b[0;32m<ipython-input-17-679030449655>\u001b[0m in \u001b[0;36m<module>\u001b[0;34m\u001b[0m\n\u001b[1;32m     12\u001b[0m \u001b[0;31m#broadcast\u001b[0m\u001b[0;34m\u001b[0m\u001b[0;34m\u001b[0m\u001b[0;34m\u001b[0m\u001b[0m\n\u001b[1;32m     13\u001b[0m \u001b[0mc\u001b[0m \u001b[0;34m=\u001b[0m \u001b[0mA\u001b[0m\u001b[0;34m+\u001b[0m\u001b[0mb\u001b[0m\u001b[0;34m\u001b[0m\u001b[0;34m\u001b[0m\u001b[0m\n\u001b[0;32m---> 14\u001b[0;31m \u001b[0mprint\u001b[0m\u001b[0;34m(\u001b[0m\u001b[0mC\u001b[0m\u001b[0;34m)\u001b[0m\u001b[0;34m\u001b[0m\u001b[0;34m\u001b[0m\u001b[0m\n\u001b[0m\u001b[1;32m     15\u001b[0m \u001b[0;34m\u001b[0m\u001b[0m\n\u001b[1;32m     16\u001b[0m \u001b[0;34m\u001b[0m\u001b[0m\n",
      "\u001b[0;31mNameError\u001b[0m: name 'C' is not defined"
     ]
    }
   ],
   "source": [
    "#broadcast scalar to two-dimensional array\n",
    "from numpy import array\n",
    "\n",
    "#define array\n",
    "A = array([[1,2,3],[1,2,3]])\n",
    "print(A)\n",
    "\n",
    "#define scalar\n",
    "b = 2\n",
    "print(b)\n",
    "\n",
    "#broadcast\n",
    "c = A+b\n",
    "print(C)\n",
    "\n",
    "#오류 나는게 맞아!"
   ]
  },
  {
   "cell_type": "code",
   "execution_count": 18,
   "metadata": {},
   "outputs": [
    {
     "name": "stdout",
     "output_type": "stream",
     "text": [
      "a= [1 2 3]\n",
      "b= [1 2 3]\n",
      "a+b= [2 4 6]\n"
     ]
    }
   ],
   "source": [
    "#chapter7\n",
    "#vector addition\n",
    "from numpy import array\n",
    "\n",
    "#define first vector\n",
    "a = array([1,2,3])\n",
    "print(\"a=\", a)\n",
    "\n",
    "#define second vector\n",
    "b = array([1,2,3])\n",
    "print(\"b=\", b)\n",
    "\n",
    "#add vectors\n",
    "c = a+b\n",
    "print(\"a+b=\", c)\n"
   ]
  },
  {
   "cell_type": "code",
   "execution_count": 19,
   "metadata": {},
   "outputs": [
    {
     "name": "stdout",
     "output_type": "stream",
     "text": [
      "a= [1 2 3]\n",
      "b= [1 2 3]\n",
      "a+b= [2 4 6]\n"
     ]
    }
   ],
   "source": [
    "#vector multiplication\n",
    "from numpy import array\n",
    "\n",
    "#define first vector\n",
    "a = array([1,2,3])\n",
    "print(\"a=\", a)\n",
    "\n",
    "#define second vector\n",
    "b = array([1,2,3])\n",
    "print(\"b=\",b)\n",
    "\n",
    "#multiple\n",
    "c = a+b\n",
    "print(\"a+b=\",c)\n"
   ]
  },
  {
   "cell_type": "code",
   "execution_count": 20,
   "metadata": {},
   "outputs": [
    {
     "name": "stdout",
     "output_type": "stream",
     "text": [
      "[1 2 3]\n",
      "6.0\n"
     ]
    }
   ],
   "source": [
    "#chapter 8\n",
    "#vector L1 norm\n",
    "from numpy import array\n",
    "from numpy.linalg import norm #놈을 가져와\n",
    "\n",
    "#define vector\n",
    "a = array([1,2,3])\n",
    "print(a)\n",
    "\n",
    "#calculate norm\n",
    "l1 = norm(a,1)\n",
    "print(l1)\n"
   ]
  },
  {
   "cell_type": "code",
   "execution_count": 22,
   "metadata": {},
   "outputs": [
    {
     "name": "stdout",
     "output_type": "stream",
     "text": [
      "[1 2 3]\n",
      "3.7416573867739413\n"
     ]
    }
   ],
   "source": [
    "#vector L2 norm\n",
    "from numpy import array\n",
    "from numpy.linalg import norm\n",
    "\n",
    "#define vector\n",
    "a = array([1,2,3])\n",
    "print(a)\n",
    "\n",
    "#calculate norm\n",
    "l2 = norm(a) #12아님 주의 앞에 알파벳이야\n",
    "print(l2)\n"
   ]
  },
  {
   "cell_type": "code",
   "execution_count": 25,
   "metadata": {},
   "outputs": [
    {
     "name": "stdout",
     "output_type": "stream",
     "text": [
      "[1 2 3]\n",
      "3.0\n"
     ]
    }
   ],
   "source": [
    "#vector max norm\n",
    "from numpy import inf\n",
    "from numpy import array\n",
    "from numpy.linalg import norm\n",
    "\n",
    "#define vector\n",
    "a = array([1,2,3])\n",
    "print(a)\n",
    "\n",
    "#calculate norm\n",
    "maxnorm = norm(a, inf) #반점, 온점 주의!\n",
    "print(maxnorm)\n"
   ]
  },
  {
   "cell_type": "code",
   "execution_count": null,
   "metadata": {},
   "outputs": [],
   "source": []
  }
 ],
 "metadata": {
  "kernelspec": {
   "display_name": "Python 3",
   "language": "python",
   "name": "python3"
  },
  "language_info": {
   "codemirror_mode": {
    "name": "ipython",
    "version": 3
   },
   "file_extension": ".py",
   "mimetype": "text/x-python",
   "name": "python",
   "nbconvert_exporter": "python",
   "pygments_lexer": "ipython3",
   "version": "3.8.5"
  }
 },
 "nbformat": 4,
 "nbformat_minor": 4
}
