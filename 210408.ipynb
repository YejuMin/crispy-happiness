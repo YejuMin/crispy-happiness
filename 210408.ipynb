{
 "cells": [
  {
   "cell_type": "code",
   "execution_count": 1,
   "metadata": {},
   "outputs": [
    {
     "name": "stdout",
     "output_type": "stream",
     "text": [
      "[[1. 2.]\n",
      " [3. 4.]]\n",
      "[[-2.   1. ]\n",
      " [ 1.5 -0.5]]\n",
      "[[1.00000000e+00 1.11022302e-16]\n",
      " [0.00000000e+00 1.00000000e+00]]\n"
     ]
    }
   ],
   "source": [
    "#chapter11\n",
    "#invert matrix\n",
    "from numpy import array\n",
    "from numpy.linalg import inv\n",
    "\n",
    "#define matrix\n",
    "A = array([[1.0,2.0],[3.0,4.0]])\n",
    "print(A)\n",
    "\n",
    "#invert matrix\n",
    "\n",
    "B = inv(A)\n",
    "print(B)\n",
    "\n",
    "#multiply A and B\n",
    "I = A.dot(B)\n",
    "print(I)"
   ]
  },
  {
   "cell_type": "code",
   "execution_count": 5,
   "metadata": {},
   "outputs": [
    {
     "name": "stdout",
     "output_type": "stream",
     "text": [
      "[[1 2 3]\n",
      " [4 5 6]\n",
      " [7 8 9]]\n",
      "15\n"
     ]
    }
   ],
   "source": [
    "#matrix trace\n",
    "from numpy import array\n",
    "from numpy import trace\n",
    "\n",
    "#define matrix\n",
    "A = array([[1,2,3],[4,5,6],[7,8,9]])\n",
    "print(A)\n",
    "\n",
    "#calculate trace\n",
    "B = trace(A)\n",
    "print(B)"
   ]
  },
  {
   "cell_type": "code",
   "execution_count": 6,
   "metadata": {},
   "outputs": [
    {
     "name": "stdout",
     "output_type": "stream",
     "text": [
      "[[1 2 3]\n",
      " [4 5 6]\n",
      " [7 8 9]]\n",
      "-9.51619735392994e-16\n"
     ]
    }
   ],
   "source": [
    "#matrix determinant\n",
    "from numpy import array\n",
    "from numpy.linalg import det\n",
    "\n",
    "#define matrix\n",
    "A = array([[1,2,3],[4,5,6],[7,8,9]])\n",
    "print(A)\n",
    "\n",
    "#calculate determinant\n",
    "B = det(A)\n",
    "print(B)"
   ]
  },
  {
   "cell_type": "code",
   "execution_count": 10,
   "metadata": {},
   "outputs": [
    {
     "name": "stdout",
     "output_type": "stream",
     "text": [
      "[1 2 3]\n",
      "1\n",
      "[0 0 0 0 0]\n",
      "0\n"
     ]
    }
   ],
   "source": [
    "#vector rank\n",
    "from numpy import array\n",
    "from numpy.linalg import matrix_rank\n",
    "\n",
    "#rank\n",
    "v1 = array([1,2,3])\n",
    "print(v1)\n",
    "vr1 = matrix_rank(v1)\n",
    "print(vr1)\n",
    "\n",
    "#zero rank\n",
    "v2 = array([0,0,0,0,0])\n",
    "print(v2)\n",
    "vr2 = matrix_rank(v2)\n",
    "print(vr2)"
   ]
  },
  {
   "cell_type": "code",
   "execution_count": 11,
   "metadata": {},
   "outputs": [
    {
     "name": "stdout",
     "output_type": "stream",
     "text": [
      "[[0 0]\n",
      " [0 0]]\n",
      "0\n",
      "[[1 2]\n",
      " [1 2]]\n",
      "1\n",
      "[[1 2]\n",
      " [3 4]]\n",
      "2\n"
     ]
    }
   ],
   "source": [
    "#matrix rank\n",
    "from numpy import array\n",
    "from numpy.linalg import matrix_rank\n",
    "\n",
    "#rank 0\n",
    "M0 = array([[0,0],[0,0]])\n",
    "print(M0)\n",
    "mr0 = matrix_rank(M0)\n",
    "print(mr0)\n",
    "\n",
    "#rank 1 \n",
    "M1 = array([[1,2],[1,2]])\n",
    "print(M1)\n",
    "mr1 = matrix_rank(M1)\n",
    "print(mr1)\n",
    "\n",
    "#rank 2\n",
    "M2 = array([[1,2],[3,4]])\n",
    "print(M2)\n",
    "mr2 = matrix_rank(M2)\n",
    "print(mr2)\n"
   ]
  },
  {
   "cell_type": "code",
   "execution_count": null,
   "metadata": {},
   "outputs": [],
   "source": []
  }
 ],
 "metadata": {
  "kernelspec": {
   "display_name": "Python 3",
   "language": "python",
   "name": "python3"
  },
  "language_info": {
   "codemirror_mode": {
    "name": "ipython",
    "version": 3
   },
   "file_extension": ".py",
   "mimetype": "text/x-python",
   "name": "python",
   "nbconvert_exporter": "python",
   "pygments_lexer": "ipython3",
   "version": "3.8.5"
  }
 },
 "nbformat": 4,
 "nbformat_minor": 4
}
